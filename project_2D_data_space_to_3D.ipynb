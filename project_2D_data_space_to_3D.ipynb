{
 "cells": [
  {
   "cell_type": "markdown",
   "metadata": {},
   "source": [
    "# Read Data"
   ]
  },
  {
   "cell_type": "code",
   "execution_count": 11,
   "metadata": {},
   "outputs": [],
   "source": [
    "import pandas as pd\n",
    "\n",
    "def read_csv(file_path):\n",
    "    \"\"\"\n",
    "    Reads a CSV file into a pandas DataFrame.\n",
    "\n",
    "    Parameters:\n",
    "    - file_path: str, the path to the CSV file.\n",
    "\n",
    "    Returns:\n",
    "    - DataFrame containing the data from the CSV file.\n",
    "    \"\"\"\n",
    "    try:\n",
    "        data = pd.read_csv(file_path)\n",
    "        print(\"CSV file loaded successfully.\")\n",
    "        return data\n",
    "    except Exception as e:\n",
    "        print(f\"Error reading the CSV file: {e}\")\n",
    "        return None"
   ]
  },
  {
   "cell_type": "markdown",
   "metadata": {},
   "source": [
    "# Get user input"
   ]
  },
  {
   "cell_type": "code",
   "execution_count": 12,
   "metadata": {},
   "outputs": [],
   "source": [
    "def get_user_inputs():\n",
    "    \"\"\"\n",
    "    Prompts the user for necessary inputs for 3D projection.\n",
    "\n",
    "    Returns:\n",
    "    - x_origin: float, the X coordinate of the cylindrical system's origin.\n",
    "    - y_origin: float, the Y coordinate of the cylindrical system's origin.\n",
    "    - axis_of_rotation: str, the chosen axis of rotation ('X' or 'Y').\n",
    "    - interval: int, the interval (in degrees) for the circular projection.\n",
    "    \"\"\"\n",
    "    while True:\n",
    "        try:\n",
    "            x_origin = float(input(\"Enter the X coordinate of the cylindrical system's origin: \"))\n",
    "            y_origin = float(input(\"Enter the Y coordinate of the cylindrical system's origin: \"))\n",
    "            axis_of_rotation = input(\"Specify the axis of rotation (X or Y): \").strip().upper()\n",
    "            interval = int(input(\"Enter the interval (in degrees) for circular projection: \"))\n",
    "            \n",
    "            if axis_of_rotation not in ['X', 'Y']:\n",
    "                raise ValueError(\"Axis of rotation must be 'X' or 'Y'.\")\n",
    "            \n",
    "            return x_origin, y_origin, axis_of_rotation, interval\n",
    "        except ValueError as e:\n",
    "            print(f\"Invalid input: {e}. Please try again.\")\n"
   ]
  },
  {
   "cell_type": "markdown",
   "metadata": {},
   "source": [
    "# Project 2D to 3D"
   ]
  },
  {
   "cell_type": "code",
   "execution_count": 13,
   "metadata": {},
   "outputs": [],
   "source": [
    "import numpy as np\n",
    "\n",
    "def project_to_3d(data, axis_of_rotation, interval):\n",
    "    \"\"\"\n",
    "    Projects 2D data into 3D space in a cylindrical pattern around the specified axis.\n",
    "\n",
    "    Parameters:\n",
    "    - data: DataFrame, containing the 2D data with columns ['ID', 'X', 'Y', 'Stress'].\n",
    "    - axis_of_rotation: str, the axis ('X' or 'Y') around which to project the data.\n",
    "    - interval: int, the interval in degrees at which to replicate points around the axis.\n",
    "\n",
    "    Returns:\n",
    "    - DataFrame containing the 3D coordinates of the projected points and their Stress values.\n",
    "    \"\"\"\n",
    "    projected_data = []\n",
    "    angles = np.arange(0, 360, interval)  # Angles in degrees for the circular projection\n",
    "\n",
    "    for _, row in data.iterrows():\n",
    "        id, x, y, stress = row['Node Number'], row['X Location (mm)'], row['Y Location (mm)'], row['Equivalent (von-Mises) Stress (MPa)']\n",
    "        radius = y if axis_of_rotation == 'X' else x\n",
    "\n",
    "        for angle in angles:\n",
    "            theta = np.radians(angle)  # Convert angle to radians\n",
    "\n",
    "            # Calculate new coordinates based on the axis of rotation\n",
    "            if axis_of_rotation == 'X':\n",
    "                new_x = x  # X remains constant\n",
    "                new_y = radius * np.cos(theta)  # Calculate new Y using radius and angle\n",
    "                new_z = radius * np.sin(theta)  # Calculate new Z using radius and angle\n",
    "            else:  # axis_of_rotation == 'Y'\n",
    "                new_x = radius * np.cos(theta)  # Calculate new X using radius and angle\n",
    "                new_y = y  # Y remains constant\n",
    "                new_z = radius * np.sin(theta)  # Calculate new Z using radius and angle\n",
    "\n",
    "            projected_data.append([new_x, new_y, new_z, stress])\n",
    "\n",
    "    # Create a DataFrame for the 3D projected data\n",
    "    columns = ['X Location (mm)', 'Y Location (mm)', 'Z Location (mm)', 'Equivalent (von-Mises) Stress (MPa)']\n",
    "    projected_df = pd.DataFrame(projected_data, columns=columns)\n",
    "\n",
    "    return projected_df\n"
   ]
  },
  {
   "cell_type": "markdown",
   "metadata": {},
   "source": [
    "# Export generated 3D data as CSV"
   ]
  },
  {
   "cell_type": "code",
   "execution_count": 14,
   "metadata": {},
   "outputs": [],
   "source": [
    "def output_to_csv(projected_data, output_file_path):\n",
    "    \"\"\"\n",
    "    Outputs the projected 3D data to a CSV file.\n",
    "\n",
    "    Parameters:\n",
    "    - projected_data: DataFrame, the DataFrame containing the 3D projected data.\n",
    "    - output_file_path: str, the path where the output CSV file will be saved.\n",
    "    \"\"\"\n",
    "    try:\n",
    "        projected_data.to_csv(output_file_path, index=False)\n",
    "        print(f\"Projected data successfully saved to '{output_file_path}'.\")\n",
    "    except Exception as e:\n",
    "        print(f\"Failed to save projected data to CSV: {e}\")\n"
   ]
  },
  {
   "cell_type": "markdown",
   "metadata": {},
   "source": [
    "# Main function"
   ]
  },
  {
   "cell_type": "code",
   "execution_count": 15,
   "metadata": {},
   "outputs": [
    {
     "name": "stdout",
     "output_type": "stream",
     "text": [
      "CSV file loaded successfully.\n",
      "Projected data successfully saved to 'my_output_csv_file.csv'.\n"
     ]
    }
   ],
   "source": [
    "def main(file_path, output_file_path):\n",
    "    # Load the 2D data from the CSV file\n",
    "    data = read_csv(file_path)\n",
    "\n",
    "    # Get user inputs for the origin, axis of rotation, and interval\n",
    "    x_origin, y_origin, axis_of_rotation, interval = get_user_inputs()\n",
    "\n",
    "    # Project the 2D data into 3D space\n",
    "    projected_data = project_to_3d(data, axis_of_rotation, interval)\n",
    "\n",
    "    # Output the projected data to a new CSV file\n",
    "    output_to_csv(projected_data, output_file_path)\n",
    "\n",
    "if __name__ == \"__main__\":\n",
    "    file_path = \"input_SEQV_2D.csv\"  # Specify the path to your CSV file here\n",
    "    output_file_path = \"my_output_csv_file.csv\"  # Specify the path for the output CSV file\n",
    "    main(file_path, output_file_path)"
   ]
  }
 ],
 "metadata": {
  "kernelspec": {
   "display_name": "Python 3",
   "language": "python",
   "name": "python3"
  },
  "language_info": {
   "codemirror_mode": {
    "name": "ipython",
    "version": 3
   },
   "file_extension": ".py",
   "mimetype": "text/x-python",
   "name": "python",
   "nbconvert_exporter": "python",
   "pygments_lexer": "ipython3",
   "version": "3.10.0"
  }
 },
 "nbformat": 4,
 "nbformat_minor": 2
}
